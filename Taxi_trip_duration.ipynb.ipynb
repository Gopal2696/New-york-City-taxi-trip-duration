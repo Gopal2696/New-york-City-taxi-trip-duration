{
  "nbformat": 4,
  "nbformat_minor": 0,
  "metadata": {
    "colab": {
      "name": "Untitled2.ipynb",
      "version": "0.3.2",
      "provenance": [],
      "collapsed_sections": [],
      "include_colab_link": true
    },
    "kernelspec": {
      "name": "python3",
      "display_name": "Python 3"
    }
  },
  "cells": [
    {
      "cell_type": "markdown",
      "metadata": {
        "id": "view-in-github",
        "colab_type": "text"
      },
      "source": [
        "<a href=\"https://colab.research.google.com/github/Gopal2696/New-york-city-taxi-trip-duration/blob/master/Taxi_trip_duration.ipynb.ipynb\" target=\"_parent\"><img src=\"https://colab.research.google.com/assets/colab-badge.svg\" alt=\"Open In Colab\"/></a>"
      ]
    },
    {
      "metadata": {
        "id": "SDSnJM--zAvH",
        "colab_type": "code",
        "colab": {}
      },
      "cell_type": "code",
      "source": [
        ""
      ],
      "execution_count": 0,
      "outputs": []
    },
    {
      "metadata": {
        "id": "jytJNSMfzHpv",
        "colab_type": "code",
        "colab": {}
      },
      "cell_type": "code",
      "source": [
        "!pip install -U -q PyDrive\n",
        "from pydrive.auth import GoogleAuth\n",
        "from pydrive.drive import GoogleDrive\n",
        "from google.colab import auth\n",
        "from oauth2client.client import GoogleCredentials\n",
        "\n",
        "#data dependencies\n",
        "import pandas as pd\n",
        "import numpy as np\n",
        "import matplotlib.pyplot as plt\n",
        "\n",
        "plt.rcParams['figure.figsize'] = [16,10]\n",
        "\n",
        "import seaborn as sns\n",
        "import xgboost as xgb\n",
        "from sklearn.model_selection import train_test_split #better for train_test_split\n",
        "\n",
        "%matplotlib inline\n",
        "plt.rcParams[\"axes.unicode_minus\"] = False   #fits inside screen \n"
      ],
      "execution_count": 0,
      "outputs": []
    },
    {
      "metadata": {
        "id": "kR6u98Ow4e3E",
        "colab_type": "code",
        "colab": {}
      },
      "cell_type": "code",
      "source": [
        "#authenticate_from_google\n",
        "\n",
        "auth.authenticate_user()\n",
        "gauth=GoogleAuth()\n",
        "gauth.credentials = GoogleCredentials.get_application_default()\n",
        "drive = GoogleDrive(gauth)"
      ],
      "execution_count": 0,
      "outputs": []
    },
    {
      "metadata": {
        "id": "aY1Ls7bdQUxH",
        "colab_type": "code",
        "colab": {}
      },
      "cell_type": "code",
      "source": [
        "# train - 1fuFU_Zw1xo1sbvGIeC6hOhe6zNEKdpg2\n",
        "# train - 1fuFU_Zw1xo1sbvGIeC6hOhe6zNEKdpg2\n",
        "\n",
        "train_downloaded = drive.CreateFile({'id': '1fuFU_Zw1xo1sbvGIeC6hOhe6zNEKdpg2'})\n",
        "train_downloaded.GetContentFile('train.csv')\n",
        "test_downloaded = drive.CreateFile({'id': '1fuFU_Zw1xo1sbvGIeC6hOhe6zNEKdpg2'})\n",
        "test_downloaded.GetContentFile('test.csv')\n",
        "\n",
        "df_train = pd.read_csv('train.csv')\n",
        "df_test = pd.read_csv('test.csv')"
      ],
      "execution_count": 0,
      "outputs": []
    },
    {
      "metadata": {
        "id": "PZJRJP5143P7",
        "colab_type": "code",
        "outputId": "304041c5-20b5-45d7-ec48-c5acd574d8b2",
        "colab": {
          "base_uri": "https://localhost:8080/",
          "height": 409
        }
      },
      "cell_type": "code",
      "source": [
        "df_train.head()"
      ],
      "execution_count": 0,
      "outputs": [
        {
          "output_type": "execute_result",
          "data": {
            "text/html": [
              "<div>\n",
              "<style scoped>\n",
              "    .dataframe tbody tr th:only-of-type {\n",
              "        vertical-align: middle;\n",
              "    }\n",
              "\n",
              "    .dataframe tbody tr th {\n",
              "        vertical-align: top;\n",
              "    }\n",
              "\n",
              "    .dataframe thead th {\n",
              "        text-align: right;\n",
              "    }\n",
              "</style>\n",
              "<table border=\"1\" class=\"dataframe\">\n",
              "  <thead>\n",
              "    <tr style=\"text-align: right;\">\n",
              "      <th></th>\n",
              "      <th>id</th>\n",
              "      <th>vendor_id</th>\n",
              "      <th>pickup_datetime</th>\n",
              "      <th>dropoff_datetime</th>\n",
              "      <th>passenger_count</th>\n",
              "      <th>pickup_longitude</th>\n",
              "      <th>pickup_latitude</th>\n",
              "      <th>dropoff_longitude</th>\n",
              "      <th>dropoff_latitude</th>\n",
              "      <th>store_and_fwd_flag</th>\n",
              "      <th>trip_duration</th>\n",
              "    </tr>\n",
              "  </thead>\n",
              "  <tbody>\n",
              "    <tr>\n",
              "      <th>0</th>\n",
              "      <td>id2875421</td>\n",
              "      <td>2</td>\n",
              "      <td>2016-03-14 17:24:55</td>\n",
              "      <td>2016-03-14 17:32:30</td>\n",
              "      <td>1</td>\n",
              "      <td>-73.982155</td>\n",
              "      <td>40.767937</td>\n",
              "      <td>-73.964630</td>\n",
              "      <td>40.765602</td>\n",
              "      <td>N</td>\n",
              "      <td>455</td>\n",
              "    </tr>\n",
              "    <tr>\n",
              "      <th>1</th>\n",
              "      <td>id2377394</td>\n",
              "      <td>1</td>\n",
              "      <td>2016-06-12 00:43:35</td>\n",
              "      <td>2016-06-12 00:54:38</td>\n",
              "      <td>1</td>\n",
              "      <td>-73.980415</td>\n",
              "      <td>40.738564</td>\n",
              "      <td>-73.999481</td>\n",
              "      <td>40.731152</td>\n",
              "      <td>N</td>\n",
              "      <td>663</td>\n",
              "    </tr>\n",
              "    <tr>\n",
              "      <th>2</th>\n",
              "      <td>id3858529</td>\n",
              "      <td>2</td>\n",
              "      <td>2016-01-19 11:35:24</td>\n",
              "      <td>2016-01-19 12:10:48</td>\n",
              "      <td>1</td>\n",
              "      <td>-73.979027</td>\n",
              "      <td>40.763939</td>\n",
              "      <td>-74.005333</td>\n",
              "      <td>40.710087</td>\n",
              "      <td>N</td>\n",
              "      <td>2124</td>\n",
              "    </tr>\n",
              "    <tr>\n",
              "      <th>3</th>\n",
              "      <td>id3504673</td>\n",
              "      <td>2</td>\n",
              "      <td>2016-04-06 19:32:31</td>\n",
              "      <td>2016-04-06 19:39:40</td>\n",
              "      <td>1</td>\n",
              "      <td>-74.010040</td>\n",
              "      <td>40.719971</td>\n",
              "      <td>-74.012268</td>\n",
              "      <td>40.706718</td>\n",
              "      <td>N</td>\n",
              "      <td>429</td>\n",
              "    </tr>\n",
              "    <tr>\n",
              "      <th>4</th>\n",
              "      <td>id2181028</td>\n",
              "      <td>2</td>\n",
              "      <td>2016-03-26 13:30:55</td>\n",
              "      <td>2016-03-26 13:38:10</td>\n",
              "      <td>1</td>\n",
              "      <td>-73.973053</td>\n",
              "      <td>40.793209</td>\n",
              "      <td>-73.972923</td>\n",
              "      <td>40.782520</td>\n",
              "      <td>N</td>\n",
              "      <td>435</td>\n",
              "    </tr>\n",
              "  </tbody>\n",
              "</table>\n",
              "</div>"
            ],
            "text/plain": [
              "          id  vendor_id      pickup_datetime     dropoff_datetime  \\\n",
              "0  id2875421          2  2016-03-14 17:24:55  2016-03-14 17:32:30   \n",
              "1  id2377394          1  2016-06-12 00:43:35  2016-06-12 00:54:38   \n",
              "2  id3858529          2  2016-01-19 11:35:24  2016-01-19 12:10:48   \n",
              "3  id3504673          2  2016-04-06 19:32:31  2016-04-06 19:39:40   \n",
              "4  id2181028          2  2016-03-26 13:30:55  2016-03-26 13:38:10   \n",
              "\n",
              "   passenger_count  pickup_longitude  pickup_latitude  dropoff_longitude  \\\n",
              "0                1        -73.982155        40.767937         -73.964630   \n",
              "1                1        -73.980415        40.738564         -73.999481   \n",
              "2                1        -73.979027        40.763939         -74.005333   \n",
              "3                1        -74.010040        40.719971         -74.012268   \n",
              "4                1        -73.973053        40.793209         -73.972923   \n",
              "\n",
              "   dropoff_latitude store_and_fwd_flag  trip_duration  \n",
              "0         40.765602                  N            455  \n",
              "1         40.731152                  N            663  \n",
              "2         40.710087                  N           2124  \n",
              "3         40.706718                  N            429  \n",
              "4         40.782520                  N            435  "
            ]
          },
          "metadata": {
            "tags": []
          },
          "execution_count": 120
        }
      ]
    },
    {
      "metadata": {
        "id": "UaHIItwJRrzc",
        "colab_type": "code",
        "colab": {}
      },
      "cell_type": "code",
      "source": [
        "#data preprocessing\n",
        "\n",
        "## how long is the average trip\n",
        " \n",
        "df_train[\"log_trip_duration\"] = np.log(df_train[\"trip_duration\"].values + 1) "
      ],
      "execution_count": 0,
      "outputs": []
    },
    {
      "metadata": {
        "id": "iz51i72kSZIl",
        "colab_type": "code",
        "outputId": "9ee4952c-8207-4e7d-c863-4977b2bd4cd2",
        "colab": {
          "base_uri": "https://localhost:8080/",
          "height": 296
        }
      },
      "cell_type": "code",
      "source": [
        "plt.hist(df_train['log_trip_duration'].values , bins=100)\n",
        "plt.xlabel('log[trip_duration]')\n",
        "plt.ylabel('number of training records')\n",
        "plt.show"
      ],
      "execution_count": 0,
      "outputs": [
        {
          "output_type": "execute_result",
          "data": {
            "text/plain": [
              "<function matplotlib.pyplot.show>"
            ]
          },
          "metadata": {
            "tags": []
          },
          "execution_count": 97
        },
        {
          "output_type": "display_data",
          "data": {
            "image/png": "[encoded data removed]",
            "text/plain": [
              "<Figure size 432x288 with 1 Axes>"
            ]
          },
          "metadata": {
            "tags": []
          }
        }
      ]
    },
    {
      "metadata": {
        "id": "8or1AagnTVzf",
        "colab_type": "code",
        "outputId": "bdf3baf1-6729-454c-c38c-cb7cb810aca3",
        "colab": {
          "base_uri": "https://localhost:8080/",
          "height": 265
        }
      },
      "cell_type": "code",
      "source": [
        "N = 10000\n",
        "city_long_border = (-75,-75)\n",
        "city_lat_border = (40,40)\n",
        "fig, ax = plt.subplots(ncols = 2, sharex=True,sharey=True)\n",
        "ax[0].scatter(df_train[\"pickup_longitude\"].values[:N] , \n",
        "              df_train[\"pickup_latitude\"].values[:N], color ='blue',\n",
        "              s=1, label='train', alpha = 0.1)\n",
        "ax[1].scatter(df_test[\"pickup_longitude\"].values[:N] , \n",
        "              df_test[\"pickup_latitude\"].values[:N], color ='green',\n",
        "              s=1, label='train', alpha = 0.1)\n",
        "plt.show()"
      ],
      "execution_count": 0,
      "outputs": [
        {
          "output_type": "display_data",
          "data": {
            "image/png": "[encoded data removed]",
            "text/plain": [
              "<Figure size 432x288 with 2 Axes>"
            ]
          },
          "metadata": {
            "tags": []
          }
        }
      ]
    },
    {
      "metadata": {
        "id": "HjEzv2Hi8q2y",
        "colab_type": "code",
        "outputId": "de4dfeb6-49fa-421d-e5f4-315fa413f4d3",
        "colab": {
          "base_uri": "https://localhost:8080/",
          "height": 409
        }
      },
      "cell_type": "code",
      "source": [
        "\n",
        "df_train.pickup_datetime = pd.to_datetime(df_train.pickup_datetime)\n",
        "df_train.dropoff_datetime= pd.to_datetime(df_train.dropoff_datetime)\n",
        "df_train['pu_hour'] = df_train.pickup_datetime.dt.hour\n",
        "df_train['yday'] = df_train.pickup_datetime.dt.dayofyear\n",
        "df_train['wday'] = df_train.pickup_datetime.dt.dayofweek\n",
        "df_train['month'] = df_train.pickup_datetime.dt.month\n",
        "df_train.head()"
      ],
      "execution_count": 0,
      "outputs": [
        {
          "output_type": "execute_result",
          "data": {
            "text/html": [
              "<div>\n",
              "<style scoped>\n",
              "    .dataframe tbody tr th:only-of-type {\n",
              "        vertical-align: middle;\n",
              "    }\n",
              "\n",
              "    .dataframe tbody tr th {\n",
              "        vertical-align: top;\n",
              "    }\n",
              "\n",
              "    .dataframe thead th {\n",
              "        text-align: right;\n",
              "    }\n",
              "</style>\n",
              "<table border=\"1\" class=\"dataframe\">\n",
              "  <thead>\n",
              "    <tr style=\"text-align: right;\">\n",
              "      <th></th>\n",
              "      <th>id</th>\n",
              "      <th>vendor_id</th>\n",
              "      <th>pickup_datetime</th>\n",
              "      <th>dropoff_datetime</th>\n",
              "      <th>passenger_count</th>\n",
              "      <th>pickup_longitude</th>\n",
              "      <th>pickup_latitude</th>\n",
              "      <th>dropoff_longitude</th>\n",
              "      <th>dropoff_latitude</th>\n",
              "      <th>store_and_fwd_flag</th>\n",
              "      <th>trip_duration</th>\n",
              "      <th>pu_hour</th>\n",
              "      <th>yday</th>\n",
              "      <th>wday</th>\n",
              "      <th>month</th>\n",
              "    </tr>\n",
              "  </thead>\n",
              "  <tbody>\n",
              "    <tr>\n",
              "      <th>0</th>\n",
              "      <td>id2875421</td>\n",
              "      <td>2</td>\n",
              "      <td>2016-03-14 17:24:55</td>\n",
              "      <td>2016-03-14 17:32:30</td>\n",
              "      <td>1</td>\n",
              "      <td>-73.982155</td>\n",
              "      <td>40.767937</td>\n",
              "      <td>-73.964630</td>\n",
              "      <td>40.765602</td>\n",
              "      <td>N</td>\n",
              "      <td>455</td>\n",
              "      <td>17</td>\n",
              "      <td>74</td>\n",
              "      <td>0</td>\n",
              "      <td>3</td>\n",
              "    </tr>\n",
              "    <tr>\n",
              "      <th>1</th>\n",
              "      <td>id2377394</td>\n",
              "      <td>1</td>\n",
              "      <td>2016-06-12 00:43:35</td>\n",
              "      <td>2016-06-12 00:54:38</td>\n",
              "      <td>1</td>\n",
              "      <td>-73.980415</td>\n",
              "      <td>40.738564</td>\n",
              "      <td>-73.999481</td>\n",
              "      <td>40.731152</td>\n",
              "      <td>N</td>\n",
              "      <td>663</td>\n",
              "      <td>0</td>\n",
              "      <td>164</td>\n",
              "      <td>6</td>\n",
              "      <td>6</td>\n",
              "    </tr>\n",
              "    <tr>\n",
              "      <th>2</th>\n",
              "      <td>id3858529</td>\n",
              "      <td>2</td>\n",
              "      <td>2016-01-19 11:35:24</td>\n",
              "      <td>2016-01-19 12:10:48</td>\n",
              "      <td>1</td>\n",
              "      <td>-73.979027</td>\n",
              "      <td>40.763939</td>\n",
              "      <td>-74.005333</td>\n",
              "      <td>40.710087</td>\n",
              "      <td>N</td>\n",
              "      <td>2124</td>\n",
              "      <td>11</td>\n",
              "      <td>19</td>\n",
              "      <td>1</td>\n",
              "      <td>1</td>\n",
              "    </tr>\n",
              "    <tr>\n",
              "      <th>3</th>\n",
              "      <td>id3504673</td>\n",
              "      <td>2</td>\n",
              "      <td>2016-04-06 19:32:31</td>\n",
              "      <td>2016-04-06 19:39:40</td>\n",
              "      <td>1</td>\n",
              "      <td>-74.010040</td>\n",
              "      <td>40.719971</td>\n",
              "      <td>-74.012268</td>\n",
              "      <td>40.706718</td>\n",
              "      <td>N</td>\n",
              "      <td>429</td>\n",
              "      <td>19</td>\n",
              "      <td>97</td>\n",
              "      <td>2</td>\n",
              "      <td>4</td>\n",
              "    </tr>\n",
              "    <tr>\n",
              "      <th>4</th>\n",
              "      <td>id2181028</td>\n",
              "      <td>2</td>\n",
              "      <td>2016-03-26 13:30:55</td>\n",
              "      <td>2016-03-26 13:38:10</td>\n",
              "      <td>1</td>\n",
              "      <td>-73.973053</td>\n",
              "      <td>40.793209</td>\n",
              "      <td>-73.972923</td>\n",
              "      <td>40.782520</td>\n",
              "      <td>N</td>\n",
              "      <td>435</td>\n",
              "      <td>13</td>\n",
              "      <td>86</td>\n",
              "      <td>5</td>\n",
              "      <td>3</td>\n",
              "    </tr>\n",
              "  </tbody>\n",
              "</table>\n",
              "</div>"
            ],
            "text/plain": [
              "          id  vendor_id     pickup_datetime    dropoff_datetime  \\\n",
              "0  id2875421          2 2016-03-14 17:24:55 2016-03-14 17:32:30   \n",
              "1  id2377394          1 2016-06-12 00:43:35 2016-06-12 00:54:38   \n",
              "2  id3858529          2 2016-01-19 11:35:24 2016-01-19 12:10:48   \n",
              "3  id3504673          2 2016-04-06 19:32:31 2016-04-06 19:39:40   \n",
              "4  id2181028          2 2016-03-26 13:30:55 2016-03-26 13:38:10   \n",
              "\n",
              "   passenger_count  pickup_longitude  pickup_latitude  dropoff_longitude  \\\n",
              "0                1        -73.982155        40.767937         -73.964630   \n",
              "1                1        -73.980415        40.738564         -73.999481   \n",
              "2                1        -73.979027        40.763939         -74.005333   \n",
              "3                1        -74.010040        40.719971         -74.012268   \n",
              "4                1        -73.973053        40.793209         -73.972923   \n",
              "\n",
              "   dropoff_latitude store_and_fwd_flag  trip_duration  pu_hour  yday  wday  \\\n",
              "0         40.765602                  N            455       17    74     0   \n",
              "1         40.731152                  N            663        0   164     6   \n",
              "2         40.710087                  N           2124       11    19     1   \n",
              "3         40.706718                  N            429       19    97     2   \n",
              "4         40.782520                  N            435       13    86     5   \n",
              "\n",
              "   month  \n",
              "0      3  \n",
              "1      6  \n",
              "2      1  \n",
              "3      4  \n",
              "4      3  "
            ]
          },
          "metadata": {
            "tags": []
          },
          "execution_count": 121
        }
      ]
    },
    {
      "metadata": {
        "id": "w-NICFqwYFPe",
        "colab_type": "code",
        "colab": {}
      },
      "cell_type": "code",
      "source": [
        "#training the model\n",
        "feature_names = ['vendor_id','pu_hour','yday','wday','month','passenger_count','pickup_longitude','pickup_latitude','dropoff_longitude', 'dropoff_latitude']\n",
        "y = np.log(df_train[\"trip_duration\"].values + 1 )\n",
        "Xtr, Xtv, ytr, ytv = train_test_split(df_train[feature_names].values, y, test_size=0.2, random_state = 1987 )\n",
        "\n",
        "\n",
        "# xgb_pars = \n",
        "# Xtr"
      ],
      "execution_count": 0,
      "outputs": []
    },
    {
      "metadata": {
        "id": "IpzF6DZLbkoB",
        "colab_type": "code",
        "outputId": "2a81c977-5c5a-443b-8a99-c5aaf3f1796a",
        "colab": {
          "base_uri": "https://localhost:8080/",
          "height": 357
        }
      },
      "cell_type": "code",
      "source": [
        "# reg = xgb.XGBRegressor(n_estimators=100, learning_rate=0.08, gamma=0, subsample=0.75,\n",
        "#                            colsample_bytree=1, max_depth=7)\n",
        "\n",
        "# # cv = ShuffleSplit(n_splits=4, test_size=0.1, random_state=0)\n",
        "# # print(cross_val_score(reg, features, np.ravel(target), cv=cv,scoring=rmsle))\n",
        "# reg.fit(Xtr,ytr)\n",
        "df_train.info()"
      ],
      "execution_count": 0,
      "outputs": [
        {
          "output_type": "stream",
          "text": [
            "<class 'pandas.core.frame.DataFrame'>\n",
            "RangeIndex: 1458644 entries, 0 to 1458643\n",
            "Data columns (total 15 columns):\n",
            "id                    1458644 non-null object\n",
            "vendor_id             1458644 non-null int64\n",
            "pickup_datetime       1458644 non-null datetime64[ns]\n",
            "dropoff_datetime      1458644 non-null datetime64[ns]\n",
            "passenger_count       1458644 non-null int64\n",
            "pickup_longitude      1458644 non-null float64\n",
            "pickup_latitude       1458644 non-null float64\n",
            "dropoff_longitude     1458644 non-null float64\n",
            "dropoff_latitude      1458644 non-null float64\n",
            "store_and_fwd_flag    1458644 non-null object\n",
            "trip_duration         1458644 non-null int64\n",
            "pu_hour               1458644 non-null int64\n",
            "yday                  1458644 non-null int64\n",
            "wday                  1458644 non-null int64\n",
            "month                 1458644 non-null int64\n",
            "dtypes: datetime64[ns](2), float64(4), int64(7), object(2)\n",
            "memory usage: 166.9+ MB\n"
          ],
          "name": "stdout"
        }
      ]
    },
    {
      "metadata": {
        "id": "QsrgTx5ysNiV",
        "colab_type": "code",
        "outputId": "7af1429d-c54e-4508-90dd-653d95633952",
        "colab": {
          "base_uri": "https://localhost:8080/",
          "height": 409
        }
      },
      "cell_type": "code",
      "source": [
        "labels=[]\n",
        "values=[]\n",
        "string =[]\n",
        "for col in df_train.columns:\n",
        "  labels.append(col)\n",
        "  values.append(df_train[col].isnull().sum())\n",
        "  print(col,values[-1])\n",
        "  \n",
        "print(labels)\n",
        "# for col in df_train.columns:\n",
        "#   string.append(df_train[col].isstr.sum())\n",
        "#   print(col,string[-1])"
      ],
      "execution_count": 0,
      "outputs": [
        {
          "output_type": "stream",
          "text": [
            "id 0\n",
            "vendor_id 0\n",
            "pickup_datetime 0\n",
            "dropoff_datetime 0\n",
            "passenger_count 0\n",
            "pickup_longitude 0\n",
            "pickup_latitude 0\n",
            "dropoff_longitude 0\n",
            "dropoff_latitude 0\n",
            "store_and_fwd_flag 0\n",
            "trip_duration 0\n",
            "pu_hour 0\n",
            "yday 0\n",
            "wday 0\n",
            "month 0\n",
            "['id', 'vendor_id', 'pickup_datetime', 'dropoff_datetime', 'passenger_count', 'pickup_longitude', 'pickup_latitude', 'dropoff_longitude', 'dropoff_latitude', 'store_and_fwd_flag', 'trip_duration', 'pu_hour', 'yday', 'wday', 'month']\n"
          ],
          "name": "stdout"
        }
      ]
    },
    {
      "metadata": {
        "id": "KI2wj1o_xFoC",
        "colab_type": "code",
        "outputId": "bc74e250-dfc0-4763-d483-6ab0d24eb907",
        "colab": {
          "base_uri": "https://localhost:8080/",
          "height": 239
        }
      },
      "cell_type": "code",
      "source": [
        "reg = xgb.XGBRegressor(n_estimators=100, learning_rate=0.08, gamma=0, subsample=0.75,\n",
        "                           colsample_bytree=1, max_depth=7)\n",
        "\n",
        "# cv = ShuffleSplit(n_splits=4, test_size=0.1, random_state=0)\n",
        "# print(cross_val_score(reg, features, np.ravel(target), cv=cv,scoring=rmsle))\n",
        "reg.fit(Xtr,ytr)"
      ],
      "execution_count": 0,
      "outputs": [
        {
          "output_type": "execute_result",
          "data": {
            "text/plain": [
              "XGBRegressor(base_score=0.5, booster='gbtree', colsample_bylevel=1,\n",
              "       colsample_bytree=1, gamma=0, learning_rate=0.08, max_delta_step=0,\n",
              "       max_depth=7, min_child_weight=1, missing=None, n_estimators=100,\n",
              "       n_jobs=1, nthread=None, objective='reg:linear', random_state=0,\n",
              "       reg_alpha=0, reg_lambda=1, scale_pos_weight=1, seed=None,\n",
              "       silent=True, subsample=0.75)"
            ]
          },
          "metadata": {
            "tags": []
          },
          "execution_count": 126
        }
      ]
    },
    {
      "metadata": {
        "id": "oevX6zHGy2vk",
        "colab_type": "code",
        "colab": {}
      },
      "cell_type": "code",
      "source": [
        "pred = reg.predict(Xtv)\n"
      ],
      "execution_count": 0,
      "outputs": []
    },
    {
      "metadata": {
        "id": "4e0TAiUM6Efr",
        "colab_type": "code",
        "colab": {}
      },
      "cell_type": "code",
      "source": [
        "import tensorflow as tf\n"
      ],
      "execution_count": 0,
      "outputs": []
    },
    {
      "metadata": {
        "id": "PuUM6weeCX8-",
        "colab_type": "code",
        "colab": {}
      },
      "cell_type": "code",
      "source": [
        "weather_downloaded = drive.CreateFile({'id': '1Ha8r-LGnnb_vbXDAbxfVFwwdM3hcRxQ4'})\n",
        "weather_downloaded.GetContentFile('weather_data_nyc_centralpark_2016(1).csv')"
      ],
      "execution_count": 0,
      "outputs": []
    },
    {
      "metadata": {
        "id": "ZCQiwj5eSXos",
        "colab_type": "code",
        "colab": {}
      },
      "cell_type": "code",
      "source": [
        ""
      ],
      "execution_count": 0,
      "outputs": []
    },
    {
      "metadata": {
        "id": "_IjhG4v9U_CN",
        "colab_type": "code",
        "colab": {}
      },
      "cell_type": "code",
      "source": [
        "weather_data = pd.read_csv('weather_data_nyc_centralpark_2016(1).csv')"
      ],
      "execution_count": 0,
      "outputs": []
    },
    {
      "metadata": {
        "id": "SMaPHvf6VPe2",
        "colab_type": "code",
        "outputId": "4c70c559-b39e-4a94-9855-b20a6576129a",
        "colab": {
          "base_uri": "https://localhost:8080/",
          "height": 346
        }
      },
      "cell_type": "code",
      "source": [
        "weather_data.head()"
      ],
      "execution_count": 0,
      "outputs": [
        {
          "output_type": "execute_result",
          "data": {
            "text/html": [
              "<div>\n",
              "<style scoped>\n",
              "    .dataframe tbody tr th:only-of-type {\n",
              "        vertical-align: middle;\n",
              "    }\n",
              "\n",
              "    .dataframe tbody tr th {\n",
              "        vertical-align: top;\n",
              "    }\n",
              "\n",
              "    .dataframe thead th {\n",
              "        text-align: right;\n",
              "    }\n",
              "</style>\n",
              "<table border=\"1\" class=\"dataframe\">\n",
              "  <thead>\n",
              "    <tr style=\"text-align: right;\">\n",
              "      <th></th>\n",
              "      <th>date</th>\n",
              "      <th>maximum temperature</th>\n",
              "      <th>minimum temperature</th>\n",
              "      <th>average temperature</th>\n",
              "      <th>precipitation</th>\n",
              "      <th>snow fall</th>\n",
              "      <th>snow depth</th>\n",
              "    </tr>\n",
              "  </thead>\n",
              "  <tbody>\n",
              "    <tr>\n",
              "      <th>0</th>\n",
              "      <td>1-1-2016</td>\n",
              "      <td>42</td>\n",
              "      <td>34</td>\n",
              "      <td>38.0</td>\n",
              "      <td>0.00</td>\n",
              "      <td>0.0</td>\n",
              "      <td>0</td>\n",
              "    </tr>\n",
              "    <tr>\n",
              "      <th>1</th>\n",
              "      <td>2-1-2016</td>\n",
              "      <td>40</td>\n",
              "      <td>32</td>\n",
              "      <td>36.0</td>\n",
              "      <td>0.00</td>\n",
              "      <td>0.0</td>\n",
              "      <td>0</td>\n",
              "    </tr>\n",
              "    <tr>\n",
              "      <th>2</th>\n",
              "      <td>3-1-2016</td>\n",
              "      <td>45</td>\n",
              "      <td>35</td>\n",
              "      <td>40.0</td>\n",
              "      <td>0.00</td>\n",
              "      <td>0.0</td>\n",
              "      <td>0</td>\n",
              "    </tr>\n",
              "    <tr>\n",
              "      <th>3</th>\n",
              "      <td>4-1-2016</td>\n",
              "      <td>36</td>\n",
              "      <td>14</td>\n",
              "      <td>25.0</td>\n",
              "      <td>0.00</td>\n",
              "      <td>0.0</td>\n",
              "      <td>0</td>\n",
              "    </tr>\n",
              "    <tr>\n",
              "      <th>4</th>\n",
              "      <td>5-1-2016</td>\n",
              "      <td>29</td>\n",
              "      <td>11</td>\n",
              "      <td>20.0</td>\n",
              "      <td>0.00</td>\n",
              "      <td>0.0</td>\n",
              "      <td>0</td>\n",
              "    </tr>\n",
              "  </tbody>\n",
              "</table>\n",
              "</div>"
            ],
            "text/plain": [
              "       date  maximum temperature  minimum temperature  average temperature  \\\n",
              "0  1-1-2016                   42                   34                 38.0   \n",
              "1  2-1-2016                   40                   32                 36.0   \n",
              "2  3-1-2016                   45                   35                 40.0   \n",
              "3  4-1-2016                   36                   14                 25.0   \n",
              "4  5-1-2016                   29                   11                 20.0   \n",
              "\n",
              "  precipitation snow fall snow depth  \n",
              "0          0.00       0.0          0  \n",
              "1          0.00       0.0          0  \n",
              "2          0.00       0.0          0  \n",
              "3          0.00       0.0          0  \n",
              "4          0.00       0.0          0  "
            ]
          },
          "metadata": {
            "tags": []
          },
          "execution_count": 179
        }
      ]
    },
    {
      "metadata": {
        "id": "5vtZ9HI6VVYA",
        "colab_type": "code",
        "colab": {}
      },
      "cell_type": "code",
      "source": [
        ""
      ],
      "execution_count": 0,
      "outputs": []
    },
    {
      "metadata": {
        "id": "42XY0iZ8Worr",
        "colab_type": "code",
        "outputId": "11e9e0d6-7a75-4fb3-9c18-66c64d36a465",
        "colab": {
          "base_uri": "https://localhost:8080/",
          "height": 221
        }
      },
      "cell_type": "code",
      "source": [
        "weather_data.info()"
      ],
      "execution_count": 0,
      "outputs": [
        {
          "output_type": "stream",
          "text": [
            "<class 'pandas.core.frame.DataFrame'>\n",
            "RangeIndex: 366 entries, 0 to 365\n",
            "Data columns (total 7 columns):\n",
            "date                   366 non-null object\n",
            "maximum temperature    366 non-null int64\n",
            "minimum temperature    366 non-null int64\n",
            "average temperature    366 non-null float64\n",
            "precipitation          366 non-null object\n",
            "snow fall              366 non-null object\n",
            "snow depth             366 non-null object\n",
            "dtypes: float64(1), int64(2), object(4)\n",
            "memory usage: 20.1+ KB\n"
          ],
          "name": "stdout"
        }
      ]
    },
    {
      "metadata": {
        "id": "Js84XVkIXZzq",
        "colab_type": "code",
        "outputId": "b59a2f82-b5d3-4061-9e63-22355c9b307c",
        "colab": {
          "base_uri": "https://localhost:8080/",
          "height": 349
        }
      },
      "cell_type": "code",
      "source": [
        "df_train['pickup_date'] = df_train['pickup_datetime'].dt.strftime('%d-%m-%Y')\n",
        "\n",
        "df_train.head()\n"
      ],
      "execution_count": 0,
      "outputs": [
        {
          "output_type": "execute_result",
          "data": {
            "text/html": [
              "<div>\n",
              "<style scoped>\n",
              "    .dataframe tbody tr th:only-of-type {\n",
              "        vertical-align: middle;\n",
              "    }\n",
              "\n",
              "    .dataframe tbody tr th {\n",
              "        vertical-align: top;\n",
              "    }\n",
              "\n",
              "    .dataframe thead th {\n",
              "        text-align: right;\n",
              "    }\n",
              "</style>\n",
              "<table border=\"1\" class=\"dataframe\">\n",
              "  <thead>\n",
              "    <tr style=\"text-align: right;\">\n",
              "      <th></th>\n",
              "      <th>id</th>\n",
              "      <th>vendor_id</th>\n",
              "      <th>pickup_datetime</th>\n",
              "      <th>dropoff_datetime</th>\n",
              "      <th>passenger_count</th>\n",
              "      <th>pickup_longitude</th>\n",
              "      <th>pickup_latitude</th>\n",
              "      <th>dropoff_longitude</th>\n",
              "      <th>dropoff_latitude</th>\n",
              "      <th>store_and_fwd_flag</th>\n",
              "      <th>trip_duration</th>\n",
              "      <th>pu_hour</th>\n",
              "      <th>yday</th>\n",
              "      <th>wday</th>\n",
              "      <th>month</th>\n",
              "      <th>pickup_date</th>\n",
              "      <th>dropoff_date</th>\n",
              "    </tr>\n",
              "  </thead>\n",
              "  <tbody>\n",
              "    <tr>\n",
              "      <th>0</th>\n",
              "      <td>id2875421</td>\n",
              "      <td>2</td>\n",
              "      <td>2016-03-14 17:24:55</td>\n",
              "      <td>2016-03-14 17:32:30</td>\n",
              "      <td>1</td>\n",
              "      <td>-73.982155</td>\n",
              "      <td>40.767937</td>\n",
              "      <td>-73.964630</td>\n",
              "      <td>40.765602</td>\n",
              "      <td>N</td>\n",
              "      <td>455</td>\n",
              "      <td>17</td>\n",
              "      <td>74</td>\n",
              "      <td>0</td>\n",
              "      <td>3</td>\n",
              "      <td>14-03-2016</td>\n",
              "      <td>2016-03-14</td>\n",
              "    </tr>\n",
              "    <tr>\n",
              "      <th>1</th>\n",
              "      <td>id2377394</td>\n",
              "      <td>1</td>\n",
              "      <td>2016-06-12 00:43:35</td>\n",
              "      <td>2016-06-12 00:54:38</td>\n",
              "      <td>1</td>\n",
              "      <td>-73.980415</td>\n",
              "      <td>40.738564</td>\n",
              "      <td>-73.999481</td>\n",
              "      <td>40.731152</td>\n",
              "      <td>N</td>\n",
              "      <td>663</td>\n",
              "      <td>0</td>\n",
              "      <td>164</td>\n",
              "      <td>6</td>\n",
              "      <td>6</td>\n",
              "      <td>12-06-2016</td>\n",
              "      <td>2016-06-12</td>\n",
              "    </tr>\n",
              "    <tr>\n",
              "      <th>2</th>\n",
              "      <td>id3858529</td>\n",
              "      <td>2</td>\n",
              "      <td>2016-01-19 11:35:24</td>\n",
              "      <td>2016-01-19 12:10:48</td>\n",
              "      <td>1</td>\n",
              "      <td>-73.979027</td>\n",
              "      <td>40.763939</td>\n",
              "      <td>-74.005333</td>\n",
              "      <td>40.710087</td>\n",
              "      <td>N</td>\n",
              "      <td>2124</td>\n",
              "      <td>11</td>\n",
              "      <td>19</td>\n",
              "      <td>1</td>\n",
              "      <td>1</td>\n",
              "      <td>19-01-2016</td>\n",
              "      <td>2016-01-19</td>\n",
              "    </tr>\n",
              "    <tr>\n",
              "      <th>3</th>\n",
              "      <td>id3504673</td>\n",
              "      <td>2</td>\n",
              "      <td>2016-04-06 19:32:31</td>\n",
              "      <td>2016-04-06 19:39:40</td>\n",
              "      <td>1</td>\n",
              "      <td>-74.010040</td>\n",
              "      <td>40.719971</td>\n",
              "      <td>-74.012268</td>\n",
              "      <td>40.706718</td>\n",
              "      <td>N</td>\n",
              "      <td>429</td>\n",
              "      <td>19</td>\n",
              "      <td>97</td>\n",
              "      <td>2</td>\n",
              "      <td>4</td>\n",
              "      <td>06-04-2016</td>\n",
              "      <td>2016-04-06</td>\n",
              "    </tr>\n",
              "    <tr>\n",
              "      <th>4</th>\n",
              "      <td>id2181028</td>\n",
              "      <td>2</td>\n",
              "      <td>2016-03-26 13:30:55</td>\n",
              "      <td>2016-03-26 13:38:10</td>\n",
              "      <td>1</td>\n",
              "      <td>-73.973053</td>\n",
              "      <td>40.793209</td>\n",
              "      <td>-73.972923</td>\n",
              "      <td>40.782520</td>\n",
              "      <td>N</td>\n",
              "      <td>435</td>\n",
              "      <td>13</td>\n",
              "      <td>86</td>\n",
              "      <td>5</td>\n",
              "      <td>3</td>\n",
              "      <td>26-03-2016</td>\n",
              "      <td>2016-03-26</td>\n",
              "    </tr>\n",
              "  </tbody>\n",
              "</table>\n",
              "</div>"
            ],
            "text/plain": [
              "          id  vendor_id     pickup_datetime    dropoff_datetime  \\\n",
              "0  id2875421          2 2016-03-14 17:24:55 2016-03-14 17:32:30   \n",
              "1  id2377394          1 2016-06-12 00:43:35 2016-06-12 00:54:38   \n",
              "2  id3858529          2 2016-01-19 11:35:24 2016-01-19 12:10:48   \n",
              "3  id3504673          2 2016-04-06 19:32:31 2016-04-06 19:39:40   \n",
              "4  id2181028          2 2016-03-26 13:30:55 2016-03-26 13:38:10   \n",
              "\n",
              "   passenger_count  pickup_longitude  pickup_latitude  dropoff_longitude  \\\n",
              "0                1        -73.982155        40.767937         -73.964630   \n",
              "1                1        -73.980415        40.738564         -73.999481   \n",
              "2                1        -73.979027        40.763939         -74.005333   \n",
              "3                1        -74.010040        40.719971         -74.012268   \n",
              "4                1        -73.973053        40.793209         -73.972923   \n",
              "\n",
              "   dropoff_latitude store_and_fwd_flag  trip_duration  pu_hour  yday  wday  \\\n",
              "0         40.765602                  N            455       17    74     0   \n",
              "1         40.731152                  N            663        0   164     6   \n",
              "2         40.710087                  N           2124       11    19     1   \n",
              "3         40.706718                  N            429       19    97     2   \n",
              "4         40.782520                  N            435       13    86     5   \n",
              "\n",
              "   month pickup_date dropoff_date  \n",
              "0      3  14-03-2016   2016-03-14  \n",
              "1      6  12-06-2016   2016-06-12  \n",
              "2      1  19-01-2016   2016-01-19  \n",
              "3      4  06-04-2016   2016-04-06  \n",
              "4      3  26-03-2016   2016-03-26  "
            ]
          },
          "metadata": {
            "tags": []
          },
          "execution_count": 182
        }
      ]
    },
    {
      "metadata": {
        "id": "sHwZTFcuYSCI",
        "colab_type": "code",
        "colab": {}
      },
      "cell_type": "code",
      "source": [
        ""
      ],
      "execution_count": 0,
      "outputs": []
    },
    {
      "metadata": {
        "id": "iNITTceYXkxN",
        "colab_type": "code",
        "colab": {}
      },
      "cell_type": "code",
      "source": [
        ""
      ],
      "execution_count": 0,
      "outputs": []
    },
    {
      "metadata": {
        "id": "CgL_lX84XwWL",
        "colab_type": "code",
        "colab": {}
      },
      "cell_type": "code",
      "source": [
        "df_train[\"dropoff_date\"] = df_train[\"dropoff_datetime\"].dt.date"
      ],
      "execution_count": 0,
      "outputs": []
    },
    {
      "metadata": {
        "id": "YVvNHa_2YYko",
        "colab_type": "code",
        "colab": {}
      },
      "cell_type": "code",
      "source": [
        "weather_data[\"date\"] = pd.to_datetime(weather_data[\"date\"])"
      ],
      "execution_count": 0,
      "outputs": []
    },
    {
      "metadata": {
        "id": "M9KcMOQ-YfiH",
        "colab_type": "code",
        "outputId": "a0f0a153-8f78-4425-babb-360400a8e352",
        "colab": {
          "base_uri": "https://localhost:8080/",
          "height": 595
        }
      },
      "cell_type": "code",
      "source": [
        "weather_data.info()\n",
        "df_train.info()\n"
      ],
      "execution_count": 0,
      "outputs": [
        {
          "output_type": "stream",
          "text": [
            "<class 'pandas.core.frame.DataFrame'>\n",
            "RangeIndex: 366 entries, 0 to 365\n",
            "Data columns (total 7 columns):\n",
            "date                   366 non-null datetime64[ns]\n",
            "maximum temperature    366 non-null int64\n",
            "minimum temperature    366 non-null int64\n",
            "average temperature    366 non-null float64\n",
            "precipitation          366 non-null object\n",
            "snow fall              366 non-null object\n",
            "snow depth             366 non-null object\n",
            "dtypes: datetime64[ns](1), float64(1), int64(2), object(3)\n",
            "memory usage: 20.1+ KB\n",
            "<class 'pandas.core.frame.DataFrame'>\n",
            "RangeIndex: 1458644 entries, 0 to 1458643\n",
            "Data columns (total 17 columns):\n",
            "id                    1458644 non-null object\n",
            "vendor_id             1458644 non-null int64\n",
            "pickup_datetime       1458644 non-null datetime64[ns]\n",
            "dropoff_datetime      1458644 non-null datetime64[ns]\n",
            "passenger_count       1458644 non-null int64\n",
            "pickup_longitude      1458644 non-null float64\n",
            "pickup_latitude       1458644 non-null float64\n",
            "dropoff_longitude     1458644 non-null float64\n",
            "dropoff_latitude      1458644 non-null float64\n",
            "store_and_fwd_flag    1458644 non-null object\n",
            "trip_duration         1458644 non-null int64\n",
            "pu_hour               1458644 non-null int64\n",
            "yday                  1458644 non-null int64\n",
            "wday                  1458644 non-null int64\n",
            "month                 1458644 non-null int64\n",
            "pickup_date           1458644 non-null object\n",
            "dropoff_date          1458644 non-null object\n",
            "dtypes: datetime64[ns](2), float64(4), int64(7), object(4)\n",
            "memory usage: 189.2+ MB\n"
          ],
          "name": "stdout"
        }
      ]
    },
    {
      "metadata": {
        "id": "49q8jOB7YqNc",
        "colab_type": "code",
        "colab": {}
      },
      "cell_type": "code",
      "source": [
        "weather_data[\"yday\"] = weather_data.date.dt.dayofyear "
      ],
      "execution_count": 0,
      "outputs": []
    },
    {
      "metadata": {
        "id": "3fPGQe3Bd38N",
        "colab_type": "code",
        "colab": {}
      },
      "cell_type": "code",
      "source": [
        "weather_data.head()\n",
        "df_train = pd.merge(df_train, weather_data, on = \"yday\" )"
      ],
      "execution_count": 0,
      "outputs": []
    },
    {
      "metadata": {
        "id": "TvLTvnHEuQCC",
        "colab_type": "code",
        "outputId": "925df3b5-374f-4c06-f68f-68130dc7f877",
        "colab": {
          "base_uri": "https://localhost:8080/",
          "height": 1210
        }
      },
      "cell_type": "code",
      "source": [
        "\n",
        "sns.set_style('ticks')\n",
        "sns.set_context(\"paper\",font_scale=2)\n",
        "corr = df_train.corr()\n",
        "mask = np.zeros_like(corr, dtype=np.bool)\n",
        "# print(mask)\n",
        "mask[np.triu_indices_from(mask)] = True\n",
        "f, ax = plt.subplots(figsize=(11,9))\n",
        "cmap = sns.diverging_palette(220, 10, as_cmap=True)\n",
        "sns.heatmap(corr, mask=mask, cmap=cmap, vmax=0.3, center=0,\n",
        "           square=True, linewidths=0.5, cbar_kws={\"shrink\":0.5} )\n"
      ],
      "execution_count": 0,
      "outputs": [
        {
          "output_type": "stream",
          "text": [
            "[[False False False False False False False False False False False False\n",
            "  False False]\n",
            " [False False False False False False False False False False False False\n",
            "  False False]\n",
            " [False False False False False False False False False False False False\n",
            "  False False]\n",
            " [False False False False False False False False False False False False\n",
            "  False False]\n",
            " [False False False False False False False False False False False False\n",
            "  False False]\n",
            " [False False False False False False False False False False False False\n",
            "  False False]\n",
            " [False False False False False False False False False False False False\n",
            "  False False]\n",
            " [False False False False False False False False False False False False\n",
            "  False False]\n",
            " [False False False False False False False False False False False False\n",
            "  False False]\n",
            " [False False False False False False False False False False False False\n",
            "  False False]\n",
            " [False False False False False False False False False False False False\n",
            "  False False]\n",
            " [False False False False False False False False False False False False\n",
            "  False False]\n",
            " [False False False False False False False False False False False False\n",
            "  False False]\n",
            " [False False False False False False False False False False False False\n",
            "  False False]]\n"
          ],
          "name": "stdout"
        },
        {
          "output_type": "execute_result",
          "data": {
            "text/plain": [
              "<matplotlib.axes._subplots.AxesSubplot at 0x7f02e0d376d8>"
            ]
          },
          "metadata": {
            "tags": []
          },
          "execution_count": 216
        },
        {
          "output_type": "display_data",
          "data": {
            "image/png": "[encoded data removed]",
            "text/plain": [
              "<Figure size 792x648 with 2 Axes>"
            ]
          },
          "metadata": {
            "tags": []
          }
        }
      ]
    },
    {
      "metadata": {
        "id": "E3NXmgQ1y4AU",
        "colab_type": "code",
        "outputId": "2e4d7cc7-9893-443b-a742-b6b0df39bfb8",
        "colab": {
          "base_uri": "https://localhost:8080/",
          "height": 591
        }
      },
      "cell_type": "code",
      "source": [
        "corr = df_train.corr()\n",
        "corr"
      ],
      "execution_count": 0,
      "outputs": [
        {
          "output_type": "execute_result",
          "data": {
            "text/html": [
              "<div>\n",
              "<style scoped>\n",
              "    .dataframe tbody tr th:only-of-type {\n",
              "        vertical-align: middle;\n",
              "    }\n",
              "\n",
              "    .dataframe tbody tr th {\n",
              "        vertical-align: top;\n",
              "    }\n",
              "\n",
              "    .dataframe thead th {\n",
              "        text-align: right;\n",
              "    }\n",
              "</style>\n",
              "<table border=\"1\" class=\"dataframe\">\n",
              "  <thead>\n",
              "    <tr style=\"text-align: right;\">\n",
              "      <th></th>\n",
              "      <th>vendor_id</th>\n",
              "      <th>passenger_count</th>\n",
              "      <th>pickup_longitude</th>\n",
              "      <th>pickup_latitude</th>\n",
              "      <th>dropoff_longitude</th>\n",
              "      <th>dropoff_latitude</th>\n",
              "      <th>trip_duration</th>\n",
              "      <th>pu_hour</th>\n",
              "      <th>yday</th>\n",
              "      <th>wday</th>\n",
              "      <th>month</th>\n",
              "      <th>maximum temperature</th>\n",
              "      <th>minimum temperature</th>\n",
              "      <th>average temperature</th>\n",
              "    </tr>\n",
              "  </thead>\n",
              "  <tbody>\n",
              "    <tr>\n",
              "      <th>vendor_id</th>\n",
              "      <td>1.000000</td>\n",
              "      <td>0.287415</td>\n",
              "      <td>0.007820</td>\n",
              "      <td>0.001742</td>\n",
              "      <td>0.001528</td>\n",
              "      <td>0.004496</td>\n",
              "      <td>0.020304</td>\n",
              "      <td>0.009299</td>\n",
              "      <td>-0.006025</td>\n",
              "      <td>0.001311</td>\n",
              "      <td>-0.006221</td>\n",
              "      <td>-0.004615</td>\n",
              "      <td>-0.004637</td>\n",
              "      <td>-0.004684</td>\n",
              "    </tr>\n",
              "    <tr>\n",
              "      <th>passenger_count</th>\n",
              "      <td>0.287415</td>\n",
              "      <td>1.000000</td>\n",
              "      <td>0.002169</td>\n",
              "      <td>-0.005125</td>\n",
              "      <td>-0.000343</td>\n",
              "      <td>-0.002762</td>\n",
              "      <td>0.008471</td>\n",
              "      <td>0.009101</td>\n",
              "      <td>-0.001784</td>\n",
              "      <td>0.025191</td>\n",
              "      <td>-0.002143</td>\n",
              "      <td>-0.001776</td>\n",
              "      <td>-0.002136</td>\n",
              "      <td>-0.001974</td>\n",
              "    </tr>\n",
              "    <tr>\n",
              "      <th>pickup_longitude</th>\n",
              "      <td>0.007820</td>\n",
              "      <td>0.002169</td>\n",
              "      <td>1.000000</td>\n",
              "      <td>0.022568</td>\n",
              "      <td>0.783582</td>\n",
              "      <td>0.100190</td>\n",
              "      <td>0.026542</td>\n",
              "      <td>0.010150</td>\n",
              "      <td>0.004263</td>\n",
              "      <td>-0.016356</td>\n",
              "      <td>0.004474</td>\n",
              "      <td>0.002859</td>\n",
              "      <td>0.002715</td>\n",
              "      <td>0.002825</td>\n",
              "    </tr>\n",
              "    <tr>\n",
              "      <th>pickup_latitude</th>\n",
              "      <td>0.001742</td>\n",
              "      <td>-0.005125</td>\n",
              "      <td>0.022568</td>\n",
              "      <td>1.000000</td>\n",
              "      <td>0.114884</td>\n",
              "      <td>0.494038</td>\n",
              "      <td>-0.029204</td>\n",
              "      <td>0.010603</td>\n",
              "      <td>-0.002516</td>\n",
              "      <td>-0.028976</td>\n",
              "      <td>-0.001439</td>\n",
              "      <td>-0.000074</td>\n",
              "      <td>0.000603</td>\n",
              "      <td>0.000255</td>\n",
              "    </tr>\n",
              "    <tr>\n",
              "      <th>dropoff_longitude</th>\n",
              "      <td>0.001528</td>\n",
              "      <td>-0.000343</td>\n",
              "      <td>0.783582</td>\n",
              "      <td>0.114884</td>\n",
              "      <td>1.000000</td>\n",
              "      <td>0.124873</td>\n",
              "      <td>0.014678</td>\n",
              "      <td>-0.022455</td>\n",
              "      <td>0.004612</td>\n",
              "      <td>-0.001130</td>\n",
              "      <td>0.004758</td>\n",
              "      <td>0.003436</td>\n",
              "      <td>0.003411</td>\n",
              "      <td>0.003466</td>\n",
              "    </tr>\n",
              "    <tr>\n",
              "      <th>dropoff_latitude</th>\n",
              "      <td>0.004496</td>\n",
              "      <td>-0.002762</td>\n",
              "      <td>0.100190</td>\n",
              "      <td>0.494038</td>\n",
              "      <td>0.124873</td>\n",
              "      <td>1.000000</td>\n",
              "      <td>-0.020677</td>\n",
              "      <td>0.013612</td>\n",
              "      <td>-0.001554</td>\n",
              "      <td>-0.021762</td>\n",
              "      <td>-0.000607</td>\n",
              "      <td>0.000286</td>\n",
              "      <td>0.000702</td>\n",
              "      <td>0.000492</td>\n",
              "    </tr>\n",
              "    <tr>\n",
              "      <th>trip_duration</th>\n",
              "      <td>0.020304</td>\n",
              "      <td>0.008471</td>\n",
              "      <td>0.026542</td>\n",
              "      <td>-0.029204</td>\n",
              "      <td>0.014678</td>\n",
              "      <td>-0.020677</td>\n",
              "      <td>1.000000</td>\n",
              "      <td>0.003690</td>\n",
              "      <td>0.006625</td>\n",
              "      <td>-0.000708</td>\n",
              "      <td>0.006607</td>\n",
              "      <td>0.001066</td>\n",
              "      <td>0.000736</td>\n",
              "      <td>0.000918</td>\n",
              "    </tr>\n",
              "    <tr>\n",
              "      <th>pu_hour</th>\n",
              "      <td>0.009299</td>\n",
              "      <td>0.009101</td>\n",
              "      <td>0.010150</td>\n",
              "      <td>0.010603</td>\n",
              "      <td>-0.022455</td>\n",
              "      <td>0.013612</td>\n",
              "      <td>0.003690</td>\n",
              "      <td>1.000000</td>\n",
              "      <td>-0.003340</td>\n",
              "      <td>-0.084255</td>\n",
              "      <td>-0.003438</td>\n",
              "      <td>0.002199</td>\n",
              "      <td>-0.000188</td>\n",
              "      <td>0.001065</td>\n",
              "    </tr>\n",
              "    <tr>\n",
              "      <th>yday</th>\n",
              "      <td>-0.006025</td>\n",
              "      <td>-0.001784</td>\n",
              "      <td>0.004263</td>\n",
              "      <td>-0.002516</td>\n",
              "      <td>0.004612</td>\n",
              "      <td>-0.001554</td>\n",
              "      <td>0.006625</td>\n",
              "      <td>-0.003340</td>\n",
              "      <td>1.000000</td>\n",
              "      <td>-0.013615</td>\n",
              "      <td>0.985657</td>\n",
              "      <td>0.516168</td>\n",
              "      <td>0.464570</td>\n",
              "      <td>0.497521</td>\n",
              "    </tr>\n",
              "    <tr>\n",
              "      <th>wday</th>\n",
              "      <td>0.001311</td>\n",
              "      <td>0.025191</td>\n",
              "      <td>-0.016356</td>\n",
              "      <td>-0.028976</td>\n",
              "      <td>-0.001130</td>\n",
              "      <td>-0.021762</td>\n",
              "      <td>-0.000708</td>\n",
              "      <td>-0.084255</td>\n",
              "      <td>-0.013615</td>\n",
              "      <td>1.000000</td>\n",
              "      <td>-0.014544</td>\n",
              "      <td>-0.051577</td>\n",
              "      <td>-0.042508</td>\n",
              "      <td>-0.047809</td>\n",
              "    </tr>\n",
              "    <tr>\n",
              "      <th>month</th>\n",
              "      <td>-0.006221</td>\n",
              "      <td>-0.002143</td>\n",
              "      <td>0.004474</td>\n",
              "      <td>-0.001439</td>\n",
              "      <td>0.004758</td>\n",
              "      <td>-0.000607</td>\n",
              "      <td>0.006607</td>\n",
              "      <td>-0.003438</td>\n",
              "      <td>0.985657</td>\n",
              "      <td>-0.014544</td>\n",
              "      <td>1.000000</td>\n",
              "      <td>0.502181</td>\n",
              "      <td>0.462784</td>\n",
              "      <td>0.489297</td>\n",
              "    </tr>\n",
              "    <tr>\n",
              "      <th>maximum temperature</th>\n",
              "      <td>-0.004615</td>\n",
              "      <td>-0.001776</td>\n",
              "      <td>0.002859</td>\n",
              "      <td>-0.000074</td>\n",
              "      <td>0.003436</td>\n",
              "      <td>0.000286</td>\n",
              "      <td>0.001066</td>\n",
              "      <td>0.002199</td>\n",
              "      <td>0.516168</td>\n",
              "      <td>-0.051577</td>\n",
              "      <td>0.502181</td>\n",
              "      <td>1.000000</td>\n",
              "      <td>0.950737</td>\n",
              "      <td>0.988551</td>\n",
              "    </tr>\n",
              "    <tr>\n",
              "      <th>minimum temperature</th>\n",
              "      <td>-0.004637</td>\n",
              "      <td>-0.002136</td>\n",
              "      <td>0.002715</td>\n",
              "      <td>0.000603</td>\n",
              "      <td>0.003411</td>\n",
              "      <td>0.000702</td>\n",
              "      <td>0.000736</td>\n",
              "      <td>-0.000188</td>\n",
              "      <td>0.464570</td>\n",
              "      <td>-0.042508</td>\n",
              "      <td>0.462784</td>\n",
              "      <td>0.950737</td>\n",
              "      <td>1.000000</td>\n",
              "      <td>0.986626</td>\n",
              "    </tr>\n",
              "    <tr>\n",
              "      <th>average temperature</th>\n",
              "      <td>-0.004684</td>\n",
              "      <td>-0.001974</td>\n",
              "      <td>0.002825</td>\n",
              "      <td>0.000255</td>\n",
              "      <td>0.003466</td>\n",
              "      <td>0.000492</td>\n",
              "      <td>0.000918</td>\n",
              "      <td>0.001065</td>\n",
              "      <td>0.497521</td>\n",
              "      <td>-0.047809</td>\n",
              "      <td>0.489297</td>\n",
              "      <td>0.988551</td>\n",
              "      <td>0.986626</td>\n",
              "      <td>1.000000</td>\n",
              "    </tr>\n",
              "  </tbody>\n",
              "</table>\n",
              "</div>"
            ],
            "text/plain": [
              "                     vendor_id  passenger_count  pickup_longitude  \\\n",
              "vendor_id             1.000000         0.287415          0.007820   \n",
              "passenger_count       0.287415         1.000000          0.002169   \n",
              "pickup_longitude      0.007820         0.002169          1.000000   \n",
              "pickup_latitude       0.001742        -0.005125          0.022568   \n",
              "dropoff_longitude     0.001528        -0.000343          0.783582   \n",
              "dropoff_latitude      0.004496        -0.002762          0.100190   \n",
              "trip_duration         0.020304         0.008471          0.026542   \n",
              "pu_hour               0.009299         0.009101          0.010150   \n",
              "yday                 -0.006025        -0.001784          0.004263   \n",
              "wday                  0.001311         0.025191         -0.016356   \n",
              "month                -0.006221        -0.002143          0.004474   \n",
              "maximum temperature  -0.004615        -0.001776          0.002859   \n",
              "minimum temperature  -0.004637        -0.002136          0.002715   \n",
              "average temperature  -0.004684        -0.001974          0.002825   \n",
              "\n",
              "                     pickup_latitude  dropoff_longitude  dropoff_latitude  \\\n",
              "vendor_id                   0.001742           0.001528          0.004496   \n",
              "passenger_count            -0.005125          -0.000343         -0.002762   \n",
              "pickup_longitude            0.022568           0.783582          0.100190   \n",
              "pickup_latitude             1.000000           0.114884          0.494038   \n",
              "dropoff_longitude           0.114884           1.000000          0.124873   \n",
              "dropoff_latitude            0.494038           0.124873          1.000000   \n",
              "trip_duration              -0.029204           0.014678         -0.020677   \n",
              "pu_hour                     0.010603          -0.022455          0.013612   \n",
              "yday                       -0.002516           0.004612         -0.001554   \n",
              "wday                       -0.028976          -0.001130         -0.021762   \n",
              "month                      -0.001439           0.004758         -0.000607   \n",
              "maximum temperature        -0.000074           0.003436          0.000286   \n",
              "minimum temperature         0.000603           0.003411          0.000702   \n",
              "average temperature         0.000255           0.003466          0.000492   \n",
              "\n",
              "                     trip_duration   pu_hour      yday      wday     month  \\\n",
              "vendor_id                 0.020304  0.009299 -0.006025  0.001311 -0.006221   \n",
              "passenger_count           0.008471  0.009101 -0.001784  0.025191 -0.002143   \n",
              "pickup_longitude          0.026542  0.010150  0.004263 -0.016356  0.004474   \n",
              "pickup_latitude          -0.029204  0.010603 -0.002516 -0.028976 -0.001439   \n",
              "dropoff_longitude         0.014678 -0.022455  0.004612 -0.001130  0.004758   \n",
              "dropoff_latitude         -0.020677  0.013612 -0.001554 -0.021762 -0.000607   \n",
              "trip_duration             1.000000  0.003690  0.006625 -0.000708  0.006607   \n",
              "pu_hour                   0.003690  1.000000 -0.003340 -0.084255 -0.003438   \n",
              "yday                      0.006625 -0.003340  1.000000 -0.013615  0.985657   \n",
              "wday                     -0.000708 -0.084255 -0.013615  1.000000 -0.014544   \n",
              "month                     0.006607 -0.003438  0.985657 -0.014544  1.000000   \n",
              "maximum temperature       0.001066  0.002199  0.516168 -0.051577  0.502181   \n",
              "minimum temperature       0.000736 -0.000188  0.464570 -0.042508  0.462784   \n",
              "average temperature       0.000918  0.001065  0.497521 -0.047809  0.489297   \n",
              "\n",
              "                     maximum temperature  minimum temperature  \\\n",
              "vendor_id                      -0.004615            -0.004637   \n",
              "passenger_count                -0.001776            -0.002136   \n",
              "pickup_longitude                0.002859             0.002715   \n",
              "pickup_latitude                -0.000074             0.000603   \n",
              "dropoff_longitude               0.003436             0.003411   \n",
              "dropoff_latitude                0.000286             0.000702   \n",
              "trip_duration                   0.001066             0.000736   \n",
              "pu_hour                         0.002199            -0.000188   \n",
              "yday                            0.516168             0.464570   \n",
              "wday                           -0.051577            -0.042508   \n",
              "month                           0.502181             0.462784   \n",
              "maximum temperature             1.000000             0.950737   \n",
              "minimum temperature             0.950737             1.000000   \n",
              "average temperature             0.988551             0.986626   \n",
              "\n",
              "                     average temperature  \n",
              "vendor_id                      -0.004684  \n",
              "passenger_count                -0.001974  \n",
              "pickup_longitude                0.002825  \n",
              "pickup_latitude                 0.000255  \n",
              "dropoff_longitude               0.003466  \n",
              "dropoff_latitude                0.000492  \n",
              "trip_duration                   0.000918  \n",
              "pu_hour                         0.001065  \n",
              "yday                            0.497521  \n",
              "wday                           -0.047809  \n",
              "month                           0.489297  \n",
              "maximum temperature             0.988551  \n",
              "minimum temperature             0.986626  \n",
              "average temperature             1.000000  "
            ]
          },
          "metadata": {
            "tags": []
          },
          "execution_count": 209
        }
      ]
    },
    {
      "metadata": {
        "id": "2n5kgzUf1RJ7",
        "colab_type": "code",
        "colab": {}
      },
      "cell_type": "code",
      "source": [
        ""
      ],
      "execution_count": 0,
      "outputs": []
    },
    {
      "metadata": {
        "id": "o8BLyGBb7f6b",
        "colab_type": "code",
        "colab": {}
      },
      "cell_type": "code",
      "source": [
        ""
      ],
      "execution_count": 0,
      "outputs": []
    }
  ]
}